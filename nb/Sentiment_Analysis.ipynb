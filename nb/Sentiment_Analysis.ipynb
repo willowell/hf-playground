{
 "cells": [
  {
   "cell_type": "markdown",
   "metadata": {},
   "source": [
    "# Sentiment Analysis"
   ]
  },
  {
   "cell_type": "markdown",
   "metadata": {},
   "source": [
    "## Imports"
   ]
  },
  {
   "cell_type": "code",
   "execution_count": null,
   "metadata": {},
   "outputs": [],
   "source": [
    "import numpy as np\n",
    "import pandas as pd\n",
    "from transformers import pipeline"
   ]
  },
  {
   "cell_type": "markdown",
   "metadata": {},
   "source": [
    "## Model Setup"
   ]
  },
  {
   "cell_type": "code",
   "execution_count": null,
   "metadata": {},
   "outputs": [],
   "source": [
    "classifier = pipeline(\n",
    "  \"text-classification\",\n",
    "  model=\"SamLowe/roberta-base-go_emotions\",\n",
    "  top_k=3\n",
    ")"
   ]
  },
  {
   "cell_type": "markdown",
   "metadata": {},
   "source": [
    "## Sentiment Analysis with Hugging Face"
   ]
  },
  {
   "cell_type": "code",
   "execution_count": null,
   "metadata": {},
   "outputs": [],
   "source": [
    "classifier(\"We are very happy to show you the 🤗 Transformers library.\")"
   ]
  },
  {
   "cell_type": "code",
   "execution_count": null,
   "metadata": {},
   "outputs": [],
   "source": [
    "sentences = [\n",
    "  \"I am not having a great day.\",\n",
    "  \"Wow! That's amazing!\",\n",
    "  \"Good luck!\",\n",
    "  \"Awww. That's awful. I hope you feel better soon :-(\",\n",
    "  \"I'm relieved to have that big weight off my shoulders!\",\n",
    "]\n",
    "\n",
    "cols = [\"Sentence\", \"Label 1\", \"Score\", \"Label 2\", \"Score\", \"Label 3\", \"Score\"]\n",
    "\n",
    "results = classifier(sentences)\n",
    "\n",
    "# xxs of labels\n",
    "labels = list(map(\n",
    "  lambda result:\n",
    "    list(map(\n",
    "      lambda res: res['label'],\n",
    "      result\n",
    "    )),\n",
    "  results\n",
    "))\n",
    "\n",
    "# xxs of scores\n",
    "scores = list(map(\n",
    "  lambda result:\n",
    "    list(map(\n",
    "      lambda res: round(res['score'], 4),\n",
    "      result\n",
    "    )),\n",
    "  results\n",
    "))\n",
    "\n",
    "rows = np.array([\n",
    "  sentences,\n",
    "  [xs[0] for xs in labels],\n",
    "  [xs[0] for xs in scores],\n",
    "  [xs[1] for xs in labels],\n",
    "  [xs[1] for xs in scores],\n",
    "  [xs[2] for xs in labels],\n",
    "  [xs[2] for xs in scores]\n",
    "]).transpose()\n",
    "\n",
    "pd.DataFrame(data=rows, columns=cols)"
   ]
  }
 ],
 "metadata": {
  "language_info": {
   "name": "python"
  },
  "orig_nbformat": 4
 },
 "nbformat": 4,
 "nbformat_minor": 2
}
