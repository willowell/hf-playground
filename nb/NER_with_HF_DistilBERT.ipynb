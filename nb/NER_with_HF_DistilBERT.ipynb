{
 "cells": [
  {
   "cell_type": "markdown",
   "metadata": {},
   "source": [
    "# Part-of-Speech NER with Hugging Face BERT"
   ]
  },
  {
   "cell_type": "markdown",
   "metadata": {},
   "source": [
    "## Imports"
   ]
  },
  {
   "cell_type": "code",
   "execution_count": 2,
   "metadata": {},
   "outputs": [],
   "source": [
    "import numpy as np\n",
    "import pandas as pd\n",
    "from transformers import AutoTokenizer, AutoModelForTokenClassification, TokenClassificationPipeline"
   ]
  },
  {
   "cell_type": "markdown",
   "metadata": {},
   "source": [
    "## Model Setup"
   ]
  },
  {
   "cell_type": "code",
   "execution_count": 6,
   "metadata": {},
   "outputs": [],
   "source": [
    "# https://huggingface.co/Davlan/distilbert-base-multilingual-cased-ner-hrl\n",
    "model_name = \"Davlan/distilbert-base-multilingual-cased-ner-hrl\"\n",
    "\n",
    "tokenizer = AutoTokenizer.from_pretrained(model_name)\n",
    "\n",
    "model = AutoModelForTokenClassification.from_pretrained(model_name)\n",
    "\n",
    "nlp = TokenClassificationPipeline(model=model, tokenizer=tokenizer, aggregation_strategy=\"simple\")"
   ]
  },
  {
   "cell_type": "code",
   "execution_count": 28,
   "metadata": {},
   "outputs": [
    {
     "name": "stdout",
     "output_type": "stream",
     "text": [
      "Nader Jokhadar (PER)\n",
      "Syria (LOC)\n",
      "Apple (ORG)\n",
      "Steve Jobs (PER)\n",
      "Los Altos (LOC)\n",
      "Californie (LOC)\n",
      "Steve Jobs (PER)\n",
      "Steve Wozniak (PER)\n",
      "Ronald Wayne (PER)\n",
      "Apple Computer (ORG)\n",
      "史 蒂 夫 · 乔 布 斯 (PER)\n",
      "斯 蒂 夫 · 沃 兹 尼 亚 克 (PER)\n",
      "罗 纳 德 · 韦 恩 (PER)\n",
      "苹 果 公 司 (ORG)\n",
      "沃 兹 尼 亚 克 (ORG)\n",
      "韦 恩 (PER)\n",
      "苹 果 电 脑 公 司 (ORG)\n"
     ]
    }
   ],
   "source": [
    "examples = [\n",
    "    \"Nader Jokhadar had given Syria the lead with a well-struck header in the seventh minute.\",\n",
    "    \"Apple est créée le 1er avril 1976 dans le garage de la maison d'enfance de Steve Jobs à Los Altos en Californie par Steve Jobs, Steve Wozniak et Ronald Wayne, puis constituée sous forme de société le 3 janvier 1977 à l'origine sous le nom d'Apple Computer.\",\n",
    "    \"1976年4月，史蒂夫·乔布斯、斯蒂夫·沃兹尼亚克和罗纳德·韦恩创立了苹果公司，目的是为了研發和销售沃兹尼亚克Apple I个人电脑，但韦恩12天后就放弃了自己的股份。1977年1月，正式确定公司名称为「苹果电脑公司」，包括Apple II在内的电脑销量迅速增长\",\n",
    "]\n",
    "\n",
    "ner_results = nlp(examples)\n",
    "\n",
    "for result in ner_results:\n",
    "    for entity in result:\n",
    "        print(f\"{entity['word']} ({entity['entity_group']})\")\n"
   ]
  },
  {
   "cell_type": "code",
   "execution_count": 29,
   "metadata": {},
   "outputs": [
    {
     "data": {
      "text/html": [
       "<div>\n",
       "<style scoped>\n",
       "    .dataframe tbody tr th:only-of-type {\n",
       "        vertical-align: middle;\n",
       "    }\n",
       "\n",
       "    .dataframe tbody tr th {\n",
       "        vertical-align: top;\n",
       "    }\n",
       "\n",
       "    .dataframe thead th {\n",
       "        text-align: right;\n",
       "    }\n",
       "</style>\n",
       "<table border=\"1\" class=\"dataframe\">\n",
       "  <thead>\n",
       "    <tr style=\"text-align: right;\">\n",
       "      <th></th>\n",
       "      <th>Document</th>\n",
       "      <th>Entities</th>\n",
       "    </tr>\n",
       "  </thead>\n",
       "  <tbody>\n",
       "    <tr>\n",
       "      <th>0</th>\n",
       "      <td>Nader Jokhadar had given Syria the lead with a well-struck header in the seventh minute.</td>\n",
       "      <td>[Nader Jokhadar (PER), Syria (LOC)]</td>\n",
       "    </tr>\n",
       "    <tr>\n",
       "      <th>1</th>\n",
       "      <td>Apple est créée le 1er avril 1976 dans le garage de la maison d'enfance de Steve Jobs à Los Altos en Californie par Steve Jobs, Steve Wozniak et Ronald Wayne, puis constituée sous forme de société le 3 janvier 1977 à l'origine sous le nom d'Apple Computer.</td>\n",
       "      <td>[Apple (ORG), Steve Jobs (PER), Los Altos (LOC), Californie (LOC), Steve Jobs (PER), Steve Wozniak (PER), Ronald Wayne (PER), Apple Computer (ORG)]</td>\n",
       "    </tr>\n",
       "    <tr>\n",
       "      <th>2</th>\n",
       "      <td>1976年4月，史蒂夫·乔布斯、斯蒂夫·沃兹尼亚克和罗纳德·韦恩创立了苹果公司，目的是为了研發和销售沃兹尼亚克Apple I个人电脑，但韦恩12天后就放弃了自己的股份。1977年1月，正式确定公司名称为「苹果电脑公司」，包括Apple II在内的电脑销量迅速增长</td>\n",
       "      <td>[史 蒂 夫 · 乔 布 斯 (PER), 斯 蒂 夫 · 沃 兹 尼 亚 克 (PER), 罗 纳 德 · 韦 恩 (PER), 苹 果 公 司 (ORG), 沃 兹 尼 亚 克 (ORG), 韦 恩 (PER), 苹 果 电 脑 公 司 (ORG)]</td>\n",
       "    </tr>\n",
       "  </tbody>\n",
       "</table>\n",
       "</div>"
      ],
      "text/plain": [
       "                                                                                                                                                                                                                                                           Document                                                                                                                                             Entities\n",
       "0                                                                                                                                                                          Nader Jokhadar had given Syria the lead with a well-struck header in the seventh minute.                                                                                                                  [Nader Jokhadar (PER), Syria (LOC)]\n",
       "1  Apple est créée le 1er avril 1976 dans le garage de la maison d'enfance de Steve Jobs à Los Altos en Californie par Steve Jobs, Steve Wozniak et Ronald Wayne, puis constituée sous forme de société le 3 janvier 1977 à l'origine sous le nom d'Apple Computer.  [Apple (ORG), Steve Jobs (PER), Los Altos (LOC), Californie (LOC), Steve Jobs (PER), Steve Wozniak (PER), Ronald Wayne (PER), Apple Computer (ORG)]\n",
       "2                                                                                                                               1976年4月，史蒂夫·乔布斯、斯蒂夫·沃兹尼亚克和罗纳德·韦恩创立了苹果公司，目的是为了研發和销售沃兹尼亚克Apple I个人电脑，但韦恩12天后就放弃了自己的股份。1977年1月，正式确定公司名称为「苹果电脑公司」，包括Apple II在内的电脑销量迅速增长                      [史 蒂 夫 · 乔 布 斯 (PER), 斯 蒂 夫 · 沃 兹 尼 亚 克 (PER), 罗 纳 德 · 韦 恩 (PER), 苹 果 公 司 (ORG), 沃 兹 尼 亚 克 (ORG), 韦 恩 (PER), 苹 果 电 脑 公 司 (ORG)]"
      ]
     },
     "execution_count": 29,
     "metadata": {},
     "output_type": "execute_result"
    }
   ],
   "source": [
    "pd.set_option(\"display.max_colwidth\", None)\n",
    "\n",
    "pd.DataFrame({\n",
    "    \"Document\": examples,\n",
    "    \"Entities\": list(map(\n",
    "        lambda result: list(map(\n",
    "            lambda entity: f\"{entity['word']} ({entity['entity_group']})\",\n",
    "            result\n",
    "        )),\n",
    "        ner_results,\n",
    "    )),\n",
    "})"
   ]
  }
 ],
 "metadata": {
  "kernelspec": {
   "display_name": ".venv",
   "language": "python",
   "name": "python3"
  },
  "language_info": {
   "codemirror_mode": {
    "name": "ipython",
    "version": 3
   },
   "file_extension": ".py",
   "mimetype": "text/x-python",
   "name": "python",
   "nbconvert_exporter": "python",
   "pygments_lexer": "ipython3",
   "version": "3.11.5"
  },
  "orig_nbformat": 4
 },
 "nbformat": 4,
 "nbformat_minor": 2
}
