{
 "cells": [
  {
   "cell_type": "markdown",
   "metadata": {},
   "source": [
    "# Named Entity Recognition (NER) with spaCy"
   ]
  },
  {
   "cell_type": "markdown",
   "metadata": {},
   "source": [
    "## Imports"
   ]
  },
  {
   "cell_type": "code",
   "execution_count": null,
   "metadata": {},
   "outputs": [],
   "source": [
    "import numpy as np\n",
    "import pandas as pd\n",
    "import spacy"
   ]
  },
  {
   "cell_type": "markdown",
   "metadata": {},
   "source": [
    "## Model Setup"
   ]
  },
  {
   "cell_type": "code",
   "execution_count": null,
   "metadata": {},
   "outputs": [],
   "source": [
    "# Load English tokenizer, tagger, parser and NER\n",
    "nlp = spacy.load(\"en_core_web_lg\")"
   ]
  },
  {
   "cell_type": "code",
   "execution_count": null,
   "metadata": {},
   "outputs": [],
   "source": [
    "# Process whole documents\n",
    "text = (\n",
    "  \"When Sebastian Thrun started working on self-driving cars at \"\n",
    "  \"Google in 2007, few people outside of the company took him \"\n",
    "  \"seriously. “I can tell you very senior CEOs of major American \"\n",
    "  \"car companies would shake my hand and turn away because I wasn’t \"\n",
    "  \"worth talking to,” said Thrun, in an interview with Recode earlier \"\n",
    "  \"this week.\"\n",
    ")\n",
    "\n",
    "doc = nlp(text)\n",
    "\n",
    "# Analyze syntax\n",
    "print(\"Noun phrases:\", [chunk.text for chunk in doc.noun_chunks])\n",
    "print(\"Verbs:\", [token.lemma_ for token in doc if token.pos_ == \"VERB\"])\n",
    "\n",
    "# Find named entities, phrases and concepts\n",
    "for entity in doc.ents:\n",
    "    print(entity.text, entity.label_)"
   ]
  },
  {
   "cell_type": "code",
   "execution_count": null,
   "metadata": {},
   "outputs": [],
   "source": [
    "tokens = [token.text for token in doc]\n",
    "\n",
    "lemmas = [token.lemma_ for token in doc]\n",
    "\n",
    "poss = [token.pos_ for token in doc]\n",
    "\n",
    "tags = [token.tag_ for token in doc]\n",
    "\n",
    "deps = [token.dep_ for token in doc]\n",
    "\n",
    "shapes = [token.shape_ for token in doc]\n",
    "\n",
    "is_alphas = [token.is_alpha for token in doc]\n",
    "\n",
    "is_stops = [token.is_stop for token in doc]\n",
    "\n",
    "cols = [\"Token\", \"Lemma\", \"Pos\", \"Tag\", \"Dep\", \"Shape\", \"Is alpha?\", \"Is stop?\"]\n",
    "\n",
    "rows = np.array([tokens, lemmas, poss, tags, deps, shapes, is_alphas, is_stops]).transpose()\n",
    "\n",
    "pd.DataFrame(data=rows, columns=cols)"
   ]
  }
 ],
 "metadata": {
  "language_info": {
   "name": "python"
  },
  "orig_nbformat": 4
 },
 "nbformat": 4,
 "nbformat_minor": 2
}
